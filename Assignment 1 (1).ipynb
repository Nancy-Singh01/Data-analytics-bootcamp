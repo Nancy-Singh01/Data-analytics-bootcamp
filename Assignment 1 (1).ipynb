{
 "cells": [
  {
   "cell_type": "code",
   "execution_count": 3,
   "id": "151ee633-d318-44db-b82f-f9168bbfff91",
   "metadata": {},
   "outputs": [
    {
     "name": "stdout",
     "output_type": "stream",
     "text": [
      "40\n"
     ]
    }
   ],
   "source": [
    "#asssignment \n",
    "#1 variable assignment & sum \n",
    "number1=15\n",
    "number2=25 \n",
    "number3=number1+number2\n",
    "print(number3)"
   ]
  },
  {
   "cell_type": "code",
   "execution_count": 1,
   "id": "33cb5896-0e81-49da-84b4-96b5303c50f3",
   "metadata": {},
   "outputs": [
    {
     "name": "stdout",
     "output_type": "stream",
     "text": [
      "32\n"
     ]
    }
   ],
   "source": [
    "#2 difference & product\n",
    "#a\n",
    "num1=50\n",
    "num2=18\n",
    "num3=num1-num2\n",
    "print(num3)"
   ]
  },
  {
   "cell_type": "code",
   "execution_count": 2,
   "id": "c703b781-af07-482d-93d8-e79598ea16ee",
   "metadata": {},
   "outputs": [
    {
     "name": "stdout",
     "output_type": "stream",
     "text": [
      "84\n"
     ]
    }
   ],
   "source": [
    "#b\n",
    "num1=12\n",
    "num2=7\n",
    "num3=num1*num2\n",
    "print(num3)"
   ]
  },
  {
   "cell_type": "code",
   "execution_count": 3,
   "id": "54bacf69-e3dd-49c5-af48-6c07605dc14b",
   "metadata": {},
   "outputs": [
    {
     "name": "stdout",
     "output_type": "stream",
     "text": [
      "33.333333333333336\n",
      "<class 'float'>\n"
     ]
    }
   ],
   "source": [
    "#3 division & modules \n",
    "#a\n",
    "num1=100\n",
    "num2=3\n",
    "num3=100/3\n",
    "print(num3)\n",
    "print(type(num3))"
   ]
  },
  {
   "cell_type": "code",
   "execution_count": 4,
   "id": "e5abeecb-a127-479d-a969-5a0595ca9ecf",
   "metadata": {},
   "outputs": [
    {
     "name": "stdout",
     "output_type": "stream",
     "text": [
      "1\n"
     ]
    }
   ],
   "source": [
    "#b\n",
    "num1=100\n",
    "num2=3\n",
    "num3=100%3\n",
    "print(num3)"
   ]
  },
  {
   "cell_type": "code",
   "execution_count": 6,
   "id": "65f6b593-91a5-4225-b4c5-2e5b76d2f9d5",
   "metadata": {},
   "outputs": [
    {
     "name": "stdout",
     "output_type": "stream",
     "text": [
      "8\n",
      "6\n",
      "True\n"
     ]
    }
   ],
   "source": [
    "#4 boolean expressions\n",
    "#a (5+3) > (10-4)\n",
    "a=5\n",
    "b=3\n",
    "c=a+b\n",
    "d=10\n",
    "e=4\n",
    "f=d-e\n",
    "g=c>f\n",
    "print(c)\n",
    "print(f)\n",
    "g=c>f\n",
    "print(g)\n"
   ]
  },
  {
   "cell_type": "code",
   "execution_count": 7,
   "id": "ec308ad2-e735-46cb-bb99-4194405548bb",
   "metadata": {},
   "outputs": [
    {
     "name": "stdout",
     "output_type": "stream",
     "text": [
      "10.0\n",
      "True\n"
     ]
    }
   ],
   "source": [
    "#b (20/2) ==10\n",
    "a=20\n",
    "b=2\n",
    "c=a/b\n",
    "d=10\n",
    "e=c==d\n",
    "print(c)\n",
    "print(e)"
   ]
  },
  {
   "cell_type": "code",
   "execution_count": 8,
   "id": "0b71ca70-3721-4e82-8294-538370cc6b28",
   "metadata": {},
   "outputs": [
    {
     "name": "stdout",
     "output_type": "stream",
     "text": [
      "45\n"
     ]
    }
   ],
   "source": [
    "#5 type conversion\n",
    "#a\n",
    "floatnum=45.8\n",
    "intnum=int(floatnum)\n",
    "print(intnum)\n"
   ]
  },
  {
   "cell_type": "code",
   "execution_count": 9,
   "id": "922b4c17-a8b8-4820-aa82-c482a573c882",
   "metadata": {},
   "outputs": [
    {
     "name": "stdout",
     "output_type": "stream",
     "text": [
      "33.0\n"
     ]
    }
   ],
   "source": [
    "#b\n",
    "intnum=33\n",
    "floatnum=float(intnum)\n",
    "print(floatnum)"
   ]
  },
  {
   "cell_type": "code",
   "execution_count": 10,
   "id": "69848704-1c0d-44e9-9532-b887c8eac3cc",
   "metadata": {},
   "outputs": [
    {
     "name": "stdout",
     "output_type": "stream",
     "text": [
      "20.0\n"
     ]
    }
   ],
   "source": [
    "#6 average of three numbers\n",
    "a=10\n",
    "b=20\n",
    "c=30\n",
    "n=3\n",
    "d=a+b+c\n",
    "e=d/n\n",
    "print(e)"
   ]
  },
  {
   "cell_type": "code",
   "execution_count": 4,
   "id": "f8a0c563-b6fc-4b7d-b83f-d5c626e1e335",
   "metadata": {},
   "outputs": [
    {
     "name": "stdout",
     "output_type": "stream",
     "text": [
      "125\n"
     ]
    }
   ],
   "source": [
    "#7 power conversion \n",
    "a=5\n",
    "b=3\n",
    "print(a**b)"
   ]
  },
  {
   "cell_type": "code",
   "execution_count": 12,
   "id": "e9f3edb9-4151-45f3-be7d-6703466adfab",
   "metadata": {},
   "outputs": [
    {
     "name": "stdout",
     "output_type": "stream",
     "text": [
      "37.0\n"
     ]
    }
   ],
   "source": [
    "#8 temperature conversion \n",
    "tempf=98.6\n",
    "b=32\n",
    "c=5\n",
    "d=9\n",
    "e=tempf-b\n",
    "f=c/d\n",
    "celcius=e*f\n",
    "print(celcius)"
   ]
  },
  {
   "cell_type": "code",
   "execution_count": 13,
   "id": "fb054958-3401-461a-97c1-3406b9f83ffe",
   "metadata": {},
   "outputs": [
    {
     "name": "stdout",
     "output_type": "stream",
     "text": [
      "10.0\n"
     ]
    }
   ],
   "source": [
    "#9 simple internet calculation\n",
    "p=100\n",
    "r=5\n",
    "t=2\n",
    "n=100\n",
    "product=p*r*t\n",
    "si=product/n\n",
    "print(si)"
   ]
  },
  {
   "cell_type": "code",
   "execution_count": 14,
   "id": "2ba17868-c1fb-40d8-bf3d-b00a1d7d6b96",
   "metadata": {},
   "outputs": [
    {
     "name": "stdout",
     "output_type": "stream",
     "text": [
      "60.0\n"
     ]
    }
   ],
   "source": [
    "#10 mixed arithmetic\n",
    "a=15\n",
    "b=5\n",
    "c=a+b\n",
    "d=20\n",
    "e=8\n",
    "g=4\n",
    "f=d-e\n",
    "h=f/g\n",
    "answer=c*h\n",
    "print(answer)"
   ]
  },
  {
   "cell_type": "code",
   "execution_count": null,
   "id": "d0da174b-e60b-43a1-9ae9-5098c6054037",
   "metadata": {},
   "outputs": [],
   "source": []
  }
 ],
 "metadata": {
  "kernelspec": {
   "display_name": "Python [conda env:base] *",
   "language": "python",
   "name": "conda-base-py"
  },
  "language_info": {
   "codemirror_mode": {
    "name": "ipython",
    "version": 3
   },
   "file_extension": ".py",
   "mimetype": "text/x-python",
   "name": "python",
   "nbconvert_exporter": "python",
   "pygments_lexer": "ipython3",
   "version": "3.13.5"
  }
 },
 "nbformat": 4,
 "nbformat_minor": 5
}
