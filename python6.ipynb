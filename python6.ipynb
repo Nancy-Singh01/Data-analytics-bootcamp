{
 "cells": [
  {
   "cell_type": "code",
   "execution_count": 2,
   "id": "8cbc4018-01ea-4e5f-b2f2-4d37573d8c2c",
   "metadata": {},
   "outputs": [
    {
     "name": "stdout",
     "output_type": "stream",
     "text": [
      "Hello world\n"
     ]
    }
   ],
   "source": [
    "#string\n",
    "s=\"hello world\"\n",
    "print(s.capitalize())"
   ]
  },
  {
   "cell_type": "code",
   "execution_count": 3,
   "id": "26b77043-e26e-448b-8f9f-57cf51c9c836",
   "metadata": {},
   "outputs": [
    {
     "name": "stdout",
     "output_type": "stream",
     "text": [
      "HELLO WORLD\n"
     ]
    }
   ],
   "source": [
    "s=\"hello world\"\n",
    "print(s.upper())"
   ]
  },
  {
   "cell_type": "code",
   "execution_count": 4,
   "id": "ef223b2b-ebe3-475b-84f2-5b080b170845",
   "metadata": {},
   "outputs": [
    {
     "name": "stdout",
     "output_type": "stream",
     "text": [
      "hello\n"
     ]
    }
   ],
   "source": [
    "s=\"HELLO\"\n",
    "print(s.lower())"
   ]
  },
  {
   "cell_type": "code",
   "execution_count": 5,
   "id": "2caa2a9b-237a-4f74-b114-bc835b455183",
   "metadata": {},
   "outputs": [
    {
     "name": "stdout",
     "output_type": "stream",
     "text": [
      "Hello World\n"
     ]
    }
   ],
   "source": [
    "s=\"hello world\"\n",
    "print(s.title())"
   ]
  },
  {
   "cell_type": "code",
   "execution_count": 6,
   "id": "3197b147-2a81-47dd-ba9f-a1c0f51cdddb",
   "metadata": {},
   "outputs": [
    {
     "name": "stdout",
     "output_type": "stream",
     "text": [
      "HEllo\n"
     ]
    }
   ],
   "source": [
    "s=\"heLLO\"\n",
    "print(s.swapcase())"
   ]
  },
  {
   "cell_type": "code",
   "execution_count": 9,
   "id": "bee4adf7-75ef-4302-8203-127e2f4c85ec",
   "metadata": {},
   "outputs": [
    {
     "name": "stdout",
     "output_type": "stream",
     "text": [
      "hello world\n",
      "hello world   \n",
      "  hello world\n"
     ]
    }
   ],
   "source": [
    "s=\"  hello world   \"\n",
    "print(s.strip())\n",
    "print(s.lstrip())\n",
    "print(s.rstrip())"
   ]
  },
  {
   "cell_type": "code",
   "execution_count": 10,
   "id": "fb79c464-79b0-4c59-bec0-e0e1a89ec7e2",
   "metadata": {},
   "outputs": [
    {
     "name": "stdout",
     "output_type": "stream",
     "text": [
      "hello p\n"
     ]
    }
   ],
   "source": [
    "s=\"hello world\"\n",
    "print(s.replace(\"world\",\"p\"))"
   ]
  },
  {
   "cell_type": "code",
   "execution_count": 11,
   "id": "09502af2-dd1b-483f-b066-51c300892eff",
   "metadata": {},
   "outputs": [
    {
     "name": "stdout",
     "output_type": "stream",
     "text": [
      "['hello', 'apple', 'banana', 'world']\n"
     ]
    }
   ],
   "source": [
    "s=\"hello,apple,banana,world\"\n",
    "print(s.split(\",\"))"
   ]
  },
  {
   "cell_type": "code",
   "execution_count": 13,
   "id": "8f8186cc-0c83-4438-af31-6c4c60bcaba9",
   "metadata": {},
   "outputs": [
    {
     "name": "stdout",
     "output_type": "stream",
     "text": [
      "6\n"
     ]
    }
   ],
   "source": [
    "s=\"hello world\"\n",
    "print(s.find(\"world\"))"
   ]
  },
  {
   "cell_type": "code",
   "execution_count": 18,
   "id": "6743397c-f18e-43a7-be14-cd072f7d7df8",
   "metadata": {},
   "outputs": [
    {
     "name": "stdout",
     "output_type": "stream",
     "text": [
      "4\n"
     ]
    }
   ],
   "source": [
    "s=\"hello\"\n",
    "print(s.index(\"o\"))"
   ]
  },
  {
   "cell_type": "code",
   "execution_count": 17,
   "id": "89742d6f-6d55-46f5-a847-11b313ac7acb",
   "metadata": {},
   "outputs": [
    {
     "name": "stdout",
     "output_type": "stream",
     "text": [
      "1\n"
     ]
    }
   ],
   "source": [
    "s=\"apple\"\n",
    "print(s.count(\"a\"))"
   ]
  },
  {
   "cell_type": "code",
   "execution_count": 19,
   "id": "af2424f4-6ca0-4cd3-9fed-148eafb02045",
   "metadata": {},
   "outputs": [
    {
     "name": "stdout",
     "output_type": "stream",
     "text": [
      "True\n"
     ]
    }
   ],
   "source": [
    "s=\"abccdefgh\"\n",
    "print(s.isalpha())"
   ]
  },
  {
   "cell_type": "code",
   "execution_count": 20,
   "id": "f6e9ce6d-a055-47cb-be36-6441b06b2cdf",
   "metadata": {},
   "outputs": [
    {
     "name": "stdout",
     "output_type": "stream",
     "text": [
      "True\n"
     ]
    }
   ],
   "source": [
    "s=\"123456\"\n",
    "print(s.isdigit())"
   ]
  },
  {
   "cell_type": "code",
   "execution_count": 21,
   "id": "eed8d20e-30c3-4515-9257-3212583008e3",
   "metadata": {},
   "outputs": [
    {
     "name": "stdout",
     "output_type": "stream",
     "text": [
      "True\n"
     ]
    }
   ],
   "source": [
    "s=\"abc132\"\n",
    "print(s.isalnum())"
   ]
  },
  {
   "cell_type": "code",
   "execution_count": 23,
   "id": "bcf9128b-5fd4-4342-b1d2-3f1c9ef838ba",
   "metadata": {},
   "outputs": [
    {
     "name": "stdout",
     "output_type": "stream",
     "text": [
      "my name is nancy and i am 18 year old\n"
     ]
    }
   ],
   "source": [
    "name=\"nancy\"\n",
    "age=18\n",
    "print(\"my name is {} and i am {} year old\".format(name,age))"
   ]
  },
  {
   "cell_type": "code",
   "execution_count": 2,
   "id": "321b0f29-db6b-4916-a785-b4febc376508",
   "metadata": {},
   "outputs": [
    {
     "name": "stdout",
     "output_type": "stream",
     "text": [
      "file doesnt exist\n"
     ]
    }
   ],
   "source": [
    "import os\n",
    "if os.path.exists(\"data.txt\"):\n",
    "    os.remove(\"data.txt\")\n",
    "    print(\"file deleted\")\n",
    "\n",
    "else:\n",
    "    print(\"file doesnt exist\")"
   ]
  },
  {
   "cell_type": "code",
   "execution_count": null,
   "id": "134efd2d-f46a-413b-827f-e9b7b399b15e",
   "metadata": {},
   "outputs": [],
   "source": [
    "def atm():\n",
    "    balance =100\n",
    "    print(\"balance\",balance)\n",
    "     "
   ]
  },
  {
   "cell_type": "code",
   "execution_count": 1,
   "id": "a08c4dc3-d643-4c18-b7a5-2455ffcbdb55",
   "metadata": {},
   "outputs": [],
   "source": [
    "def factorial(n):\n",
    "    result = 1\n",
    "    for i in range(1, n + 1):\n",
    "        result *= i\n",
    "    return result"
   ]
  },
  {
   "cell_type": "code",
   "execution_count": 2,
   "id": "f49c65d5-0b5f-4704-9832-64f8295416c1",
   "metadata": {},
   "outputs": [
    {
     "name": "stdin",
     "output_type": "stream",
     "text": [
      "Enter a number:  5\n"
     ]
    },
    {
     "name": "stdout",
     "output_type": "stream",
     "text": [
      "Factorial is: 120\n"
     ]
    }
   ],
   "source": [
    "num = int(input(\"Enter a number: \"))\n",
    "print(\"Factorial is:\", factorial(num))"
   ]
  },
  {
   "cell_type": "code",
   "execution_count": 3,
   "id": "6198f6f4-a8a0-4da4-836b-aded482930af",
   "metadata": {},
   "outputs": [
    {
     "name": "stdin",
     "output_type": "stream",
     "text": [
      "Enter a number:  54\n"
     ]
    },
    {
     "name": "stdout",
     "output_type": "stream",
     "text": [
      "54 is not a prime number.\n"
     ]
    }
   ],
   "source": [
    "def is_prime(n):\n",
    "    if n <= 1:\n",
    "        return False\n",
    "    for i in range(2, int(n**0.5) + 1):\n",
    "        if n % i == 0:\n",
    "            return False\n",
    "    return True\n",
    "num = int(input(\"Enter a number: \"))\n",
    "if is_prime(num):\n",
    "    print(num, \"is a prime number.\")\n",
    "else:\n",
    "    print(num, \"is not a prime number.\")"
   ]
  },
  {
   "cell_type": "code",
   "execution_count": 4,
   "id": "44550604-f1ac-4356-8272-7ba7e16f25c2",
   "metadata": {},
   "outputs": [
    {
     "name": "stdin",
     "output_type": "stream",
     "text": [
      "Enter a number:  5\n",
      "Enter a number:  6\n",
      "Enter a number:  6\n",
      "Enter a number:  8\n",
      "Enter a number:  9\n"
     ]
    },
    {
     "name": "stdout",
     "output_type": "stream",
     "text": [
      "Even numbers are:\n",
      "6\n",
      "6\n",
      "8\n"
     ]
    }
   ],
   "source": [
    "numbers = []\n",
    "\n",
    "for i in range(5):\n",
    "    num = int(input(\"Enter a number: \"))\n",
    "    numbers.append(num)\n",
    "print(\"Even numbers are:\")\n",
    "for num in numbers:\n",
    "    if num % 2 == 0:\n",
    "        print(num)"
   ]
  },
  {
   "cell_type": "code",
   "execution_count": 6,
   "id": "88826e49-a210-4c76-abe3-414d34d355ea",
   "metadata": {},
   "outputs": [],
   "source": [
    "def average(*args):\n",
    "    if len(args) == 0:\n",
    "        return 0  \n",
    "    return sum(args) / len(args)"
   ]
  },
  {
   "cell_type": "code",
   "execution_count": 7,
   "id": "bb978d09-67f1-43fa-83ee-7066f8dc923c",
   "metadata": {},
   "outputs": [
    {
     "name": "stdout",
     "output_type": "stream",
     "text": [
      "20.0\n",
      "10.0\n",
      "0\n"
     ]
    }
   ],
   "source": [
    "print(average(10, 20, 30))   \n",
    "print(average(5, 15))        \n",
    "print(average())             "
   ]
  },
  {
   "cell_type": "code",
   "execution_count": 8,
   "id": "b7aa6adb-3f59-4571-a5a1-f239d0aa43ea",
   "metadata": {},
   "outputs": [
    {
     "name": "stdin",
     "output_type": "stream",
     "text": [
      "Enter the file name (with extension):  nancy.py\n"
     ]
    },
    {
     "name": "stdout",
     "output_type": "stream",
     "text": [
      "File not found. Please check the filename.\n"
     ]
    }
   ],
   "source": [
    "def count_lines(filename):\n",
    "    with open(filename, 'r') as file:\n",
    "        lines = file.readlines()\n",
    "        return len(lines)\n",
    "filename = input(\"Enter the file name (with extension): \")\n",
    "try:\n",
    "    line_count = count_lines(filename)\n",
    "    print(f\"Number of lines in '{filename}': {line_count}\")\n",
    "except FileNotFoundError:\n",
    "    print(\"File not found. Please check the filename.\")"
   ]
  },
  {
   "cell_type": "code",
   "execution_count": 10,
   "id": "8602875d-a2b7-4369-bcf2-72a533f2a53d",
   "metadata": {},
   "outputs": [
    {
     "name": "stdout",
     "output_type": "stream",
     "text": [
      "Error: Cannot divide by zero.\n"
     ]
    }
   ],
   "source": [
    "try:\n",
    "    numerator = 10\n",
    "    denominator = 0\n",
    "    result = numerator / denominator\n",
    "    print(\"Result:\", result)\n",
    "except ZeroDivisionError:\n",
    "    print(\"Error: Cannot divide by zero.\")"
   ]
  },
  {
   "cell_type": "code",
   "execution_count": 11,
   "id": "98ac9585-5bf6-49c9-a7b5-f07894f24047",
   "metadata": {},
   "outputs": [],
   "source": [
    "class Car:\n",
    "    def __init__(self, make, model, year, color):\n",
    "        self.make = make        \n",
    "        self.model = model      \n",
    "        self.year = year     \n",
    "        self.color = color      \n",
    "\n",
    "    def display_info(self):\n",
    "        print(f\"Car Information:\")\n",
    "        print(f\"Make: {self.make}\")\n",
    "        print(f\"Model: {self.model}\")\n",
    "        print(f\"Year: {self.year}\")\n",
    "        print(f\"Color: {self.color}\")\n"
   ]
  },
  {
   "cell_type": "code",
   "execution_count": 12,
   "id": "cbce8aa8-3da3-4136-9778-cce576792a1b",
   "metadata": {},
   "outputs": [
    {
     "name": "stdout",
     "output_type": "stream",
     "text": [
      "Car Information:\n",
      "Make: Honda\n",
      "Model: Civic\n",
      "Year: 2023\n",
      "Color: Red\n"
     ]
    }
   ],
   "source": [
    "my_car = Car(\"Honda\", \"Civic\", 2023, \"Red\")\n",
    "my_car.display_info()"
   ]
  },
  {
   "cell_type": "code",
   "execution_count": 13,
   "id": "5322fdfe-0dd3-49ed-b9b2-f419173d6d81",
   "metadata": {},
   "outputs": [],
   "source": [
    "def fibonacci(n):\n",
    "    if n <= 0:\n",
    "        return 0\n",
    "    elif n == 1:\n",
    "        return 1\n",
    "    else:\n",
    "        return fibonacci(n - 1) + fibonacci(n - 2)"
   ]
  },
  {
   "cell_type": "code",
   "execution_count": 14,
   "id": "dc191e38-de89-4548-b4a0-25b29b78f0c4",
   "metadata": {},
   "outputs": [
    {
     "name": "stdout",
     "output_type": "stream",
     "text": [
      "Fibonacci(0) = 0\n",
      "Fibonacci(1) = 1\n",
      "Fibonacci(2) = 1\n",
      "Fibonacci(3) = 2\n",
      "Fibonacci(4) = 3\n",
      "Fibonacci(5) = 5\n",
      "Fibonacci(6) = 8\n",
      "Fibonacci(7) = 13\n",
      "Fibonacci(8) = 21\n",
      "Fibonacci(9) = 34\n"
     ]
    }
   ],
   "source": [
    "for i in range(10):\n",
    "    print(f\"Fibonacci({i}) = {fibonacci(i)}\")\n"
   ]
  },
  {
   "cell_type": "code",
   "execution_count": 15,
   "id": "de1b8754-c2f2-4d32-a067-bb1e518409c3",
   "metadata": {},
   "outputs": [],
   "source": [
    "def reverse_string(s):\n",
    "    return s[::-1]"
   ]
  },
  {
   "cell_type": "code",
   "execution_count": 16,
   "id": "b3720f1e-7077-4d2a-a985-aa3a60480263",
   "metadata": {},
   "outputs": [
    {
     "name": "stdout",
     "output_type": "stream",
     "text": [
      "!dlrow ,olleH\n"
     ]
    }
   ],
   "source": [
    "text = \"Hello, world!\"\n",
    "reversed_text = reverse_string(text)\n",
    "print(reversed_text)  "
   ]
  },
  {
   "cell_type": "code",
   "execution_count": 17,
   "id": "5d8c96cf-b760-4a4a-9e2f-5037adaa2d93",
   "metadata": {},
   "outputs": [
    {
     "name": "stdout",
     "output_type": "stream",
     "text": [
      "Number of vowels: 10\n"
     ]
    }
   ],
   "source": [
    "def count_vowels(s):\n",
    "    vowels = \"aeiouAEIOU\"\n",
    "    count = 0\n",
    "    for char in s:\n",
    "        if char in vowels:\n",
    "            count += 1\n",
    "    return count\n",
    "text = \"Hello, how many vowels are here?\"\n",
    "print(f\"Number of vowels: {count_vowels(text)}\")\n"
   ]
  },
  {
   "cell_type": "code",
   "execution_count": 18,
   "id": "038e99bd-6722-42da-8ff9-62bbc96ed5d5",
   "metadata": {},
   "outputs": [],
   "source": [
    "def is_palindrome(s):\n",
    "    cleaned = ''.join(char.lower() for char in s if char.isalnum())\n",
    "    return cleaned == cleaned[::-1]\n"
   ]
  },
  {
   "cell_type": "code",
   "execution_count": 19,
   "id": "45f96bee-1afc-4c07-abc3-1db9ae5d2f47",
   "metadata": {},
   "outputs": [
    {
     "name": "stdout",
     "output_type": "stream",
     "text": [
      "True\n",
      "False\n",
      "True\n"
     ]
    }
   ],
   "source": [
    "print(is_palindrome(\"Racecar\"))          \n",
    "print(is_palindrome(\"Hello\"))            \n",
    "print(is_palindrome(\"A man, a plan, a canal, Panama\"))  \n"
   ]
  },
  {
   "cell_type": "code",
   "execution_count": 20,
   "id": "d5281303-abd7-49d9-8c1b-8dc9297725a4",
   "metadata": {},
   "outputs": [],
   "source": [
    "def merge_dicts(dict1, dict2):\n",
    "    merged = dict1.copy()  \n",
    "    merged.update(dict2)   \n",
    "    return merged\n"
   ]
  },
  {
   "cell_type": "code",
   "execution_count": 21,
   "id": "e759ac29-dd79-4273-99ac-c1a12f14862b",
   "metadata": {},
   "outputs": [
    {
     "name": "stdout",
     "output_type": "stream",
     "text": [
      "{'a': 1, 'b': 3, 'c': 4}\n"
     ]
    }
   ],
   "source": [
    "d1 = {'a': 1, 'b': 2}\n",
    "d2 = {'b': 3, 'c': 4}\n",
    "\n",
    "result = merge_dicts(d1, d2)\n",
    "print(result)  \n"
   ]
  },
  {
   "cell_type": "code",
   "execution_count": 26,
   "id": "15d72108-b93f-42bf-80f7-0f49f34c2b63",
   "metadata": {},
   "outputs": [
    {
     "name": "stdout",
     "output_type": "stream",
     "text": [
      "Marks for Alice:\n",
      "Math: 85\n",
      "English: 90\n",
      "Science: 78\n"
     ]
    }
   ],
   "source": [
    "class Student:\n",
    "    def __init__(self, name, marks):\n",
    "        self.name = name       \n",
    "        self.marks = marks      \n",
    "\n",
    "    def display_marks(self):\n",
    "        print(f\"Marks for {self.name}:\")\n",
    "        if isinstance(self.marks, dict):\n",
    "            for subject, mark in self.marks.items():\n",
    "                print(f\"{subject}: {mark}\")\n",
    "        else:\n",
    "            for i, mark in enumerate(self.marks, 1):\n",
    "                print(f\"Subject {i}: {mark}\")\n",
    "student1 = Student(\"Alice\", {\"Math\": 85, \"English\": 90, \"Science\": 78})\n",
    "student1.display_marks()\n"
   ]
  },
  {
   "cell_type": "code",
   "execution_count": 29,
   "id": "1156bac6-ccb0-43e3-bb1b-a8555ff089f6",
   "metadata": {},
   "outputs": [
    {
     "name": "stdout",
     "output_type": "stream",
     "text": [
      "[1, 4, 9, 16, 25]\n"
     ]
    }
   ],
   "source": [
    "numbers = [1, 2, 3, 4, 5]\n",
    "squared = list(map(lambda x: x**2, numbers))\n",
    "print(squared)\n"
   ]
  },
  {
   "cell_type": "code",
   "execution_count": 30,
   "id": "16f2d7f6-f995-4ca3-9a64-245d515a61bf",
   "metadata": {},
   "outputs": [],
   "source": [
    "def find_largest(lst):\n",
    "    if not lst:\n",
    "        return None\n",
    "    largest = lst[0]\n",
    "    for num in lst:\n",
    "        if num > largest:\n",
    "            largest = num\n",
    "    return largest\n"
   ]
  },
  {
   "cell_type": "code",
   "execution_count": 31,
   "id": "1724c806-fb06-4c67-99e6-25b43377f260",
   "metadata": {},
   "outputs": [
    {
     "name": "stdout",
     "output_type": "stream",
     "text": [
      "89\n"
     ]
    }
   ],
   "source": [
    "numbers = [3, 45, 12, 7, 89, 2]\n",
    "print(find_largest(numbers))  \n"
   ]
  },
  {
   "cell_type": "code",
   "execution_count": 32,
   "id": "af4256b9-c624-4431-91c3-5df9510c113b",
   "metadata": {},
   "outputs": [
    {
     "name": "stdout",
     "output_type": "stream",
     "text": [
      "Constructor called: Object created with value = 10\n",
      "Doing something with the object...\n",
      "Destructor called: Object with value = 10 is being destroyed\n"
     ]
    }
   ],
   "source": [
    "class MyClass:\n",
    "    def __init__(self, value):\n",
    "        self.value = value\n",
    "        print(f\"Constructor called: Object created with value = {self.value}\")\n",
    "\n",
    "    def __del__(self):\n",
    "        print(f\"Destructor called: Object with value = {self.value} is being destroyed\")\n",
    "obj = MyClass(10)\n",
    "print(\"Doing something with the object...\")\n",
    "del obj  \n"
   ]
  },
  {
   "cell_type": "code",
   "execution_count": 33,
   "id": "579d4946-bb85-4b54-adc3-fb36cb57d606",
   "metadata": {},
   "outputs": [],
   "source": [
    "def key_exists(d, key):\n",
    "    return key in d"
   ]
  },
  {
   "cell_type": "code",
   "execution_count": 34,
   "id": "47d031a5-206c-4553-ba32-790e081a2bb6",
   "metadata": {},
   "outputs": [
    {
     "name": "stdout",
     "output_type": "stream",
     "text": [
      "True\n",
      "False\n"
     ]
    }
   ],
   "source": [
    "my_dict = {'name': 'Alice', 'age': 25}\n",
    "\n",
    "print(key_exists(my_dict, 'name'))  \n",
    "print(key_exists(my_dict, 'salary'))  \n"
   ]
  },
  {
   "cell_type": "code",
   "execution_count": 35,
   "id": "011e7e7a-831d-4df7-95d1-92efd042b013",
   "metadata": {},
   "outputs": [],
   "source": [
    "def char_frequency(s):\n",
    "    freq = {}\n",
    "    for char in s:\n",
    "        freq[char] = freq.get(char, 0) + 1\n",
    "    return freq\n"
   ]
  },
  {
   "cell_type": "code",
   "execution_count": 36,
   "id": "bf81acc4-4cb4-4534-972a-15a92dfde9ab",
   "metadata": {},
   "outputs": [
    {
     "name": "stdout",
     "output_type": "stream",
     "text": [
      "{'h': 1, 'e': 1, 'l': 3, 'o': 2, ' ': 1, 'w': 1, 'r': 1, 'd': 1}\n"
     ]
    }
   ],
   "source": [
    "text = \"hello world\"\n",
    "frequency = char_frequency(text)\n",
    "print(frequency)\n"
   ]
  },
  {
   "cell_type": "code",
   "execution_count": null,
   "id": "7453e197-9ebc-4968-a191-a6b1988be3ce",
   "metadata": {},
   "outputs": [],
   "source": []
  }
 ],
 "metadata": {
  "kernelspec": {
   "display_name": "Python [conda env:base] *",
   "language": "python",
   "name": "conda-base-py"
  },
  "language_info": {
   "codemirror_mode": {
    "name": "ipython",
    "version": 3
   },
   "file_extension": ".py",
   "mimetype": "text/x-python",
   "name": "python",
   "nbconvert_exporter": "python",
   "pygments_lexer": "ipython3",
   "version": "3.13.5"
  }
 },
 "nbformat": 4,
 "nbformat_minor": 5
}
