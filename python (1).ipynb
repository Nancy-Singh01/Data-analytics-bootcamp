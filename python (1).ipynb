{
 "cells": [
  {
   "cell_type": "code",
   "execution_count": 1,
   "id": "7cd8b8d6-2ff8-4733-908e-eca93edea882",
   "metadata": {},
   "outputs": [
    {
     "name": "stdout",
     "output_type": "stream",
     "text": [
      "hello world\n"
     ]
    }
   ],
   "source": [
    "print(\"hello world\")"
   ]
  },
  {
   "cell_type": "code",
   "execution_count": 2,
   "id": "3dfae31c-0240-4d48-9d11-d700b346ebea",
   "metadata": {},
   "outputs": [
    {
     "name": "stdout",
     "output_type": "stream",
     "text": [
      "30\n"
     ]
    }
   ],
   "source": [
    "#Print Sum\n",
    "a=10\n",
    "b=20\n",
    "c=a+b\n",
    "print(c)"
   ]
  },
  {
   "cell_type": "code",
   "execution_count": 3,
   "id": "20bbd65a-ba5c-4688-bd49-8b92e19a5ed7",
   "metadata": {},
   "outputs": [
    {
     "name": "stdin",
     "output_type": "stream",
     "text": [
      "enter a number: 5\n",
      "enter a number: 6\n"
     ]
    },
    {
     "name": "stdout",
     "output_type": "stream",
     "text": [
      "11\n"
     ]
    }
   ],
   "source": [
    "#Write a Program to input 2 numbers & print their sum\n",
    "a=int(input(\"enter a number:\"))\n",
    "b=int(input(\"enter a number:\"))\n",
    "print(a+b)"
   ]
  },
  {
   "cell_type": "code",
   "execution_count": 4,
   "id": "5eaee106-b428-41bf-b8c4-98b9522d0f90",
   "metadata": {},
   "outputs": [
    {
     "name": "stdin",
     "output_type": "stream",
     "text": [
      "enter square side 4\n"
     ]
    },
    {
     "name": "stdout",
     "output_type": "stream",
     "text": [
      "area 16\n"
     ]
    }
   ],
   "source": [
    "#WAP to input side of a square & print its area\n",
    "side=int(input(\"enter square side\"))\n",
    "print(\"area\",side*side)"
   ]
  },
  {
   "cell_type": "code",
   "execution_count": 51,
   "id": "17e48a2b-241a-4afc-8d4c-2571bce291d9",
   "metadata": {},
   "outputs": [
    {
     "name": "stdin",
     "output_type": "stream",
     "text": [
      "enter a number: 56.2\n",
      "enter a number: 46.2\n"
     ]
    },
    {
     "name": "stdout",
     "output_type": "stream",
     "text": [
      "average 56.662000000000006\n"
     ]
    }
   ],
   "source": [
    "#WAP to input 2 floating point numbers & print their average\n",
    "a=float(input(\"enter a number:\"))\n",
    "b=float(input(\"enter a number:\"))\n",
    "print(\"average\",a+b/100)"
   ]
  },
  {
   "cell_type": "code",
   "execution_count": 6,
   "id": "5a3662bc-195b-4b49-baf1-774568a4b29a",
   "metadata": {},
   "outputs": [
    {
     "name": "stdin",
     "output_type": "stream",
     "text": [
      "enter a number 56\n",
      "eneter a number 89\n"
     ]
    },
    {
     "name": "stdout",
     "output_type": "stream",
     "text": [
      "False\n"
     ]
    }
   ],
   "source": [
    "#WAP to input 2 int numbers, a and b Print True if a is greater than or equal to b. If not print False\n",
    "a=int(input(\"enter a number\"))\n",
    "b=int(input(\"eneter a number\"))\n",
    "print(a>=b)"
   ]
  },
  {
   "cell_type": "code",
   "execution_count": 7,
   "id": "c93254cc-e096-414b-a11a-f7c55fa1fa38",
   "metadata": {},
   "outputs": [
    {
     "name": "stdout",
     "output_type": "stream",
     "text": [
      "<class 'int'>\n",
      "<class 'float'>\n",
      "<class 'str'>\n",
      "<class 'complex'>\n",
      "<class 'bool'>\n"
     ]
    }
   ],
   "source": [
    "#data types\n",
    "a=20\n",
    "b=5.3\n",
    "c=\"Nancy\"\n",
    "d=4+5j\n",
    "e=False\n",
    "print(type(a))\n",
    "print(type(b))\n",
    "print(type(c))\n",
    "print(type(d))\n",
    "print(type(e))"
   ]
  },
  {
   "cell_type": "code",
   "execution_count": 8,
   "id": "39b3edb6-b442-4211-ac20-b0356d4502c1",
   "metadata": {},
   "outputs": [
    {
     "name": "stdout",
     "output_type": "stream",
     "text": [
      "70\n",
      "30\n",
      "2.5\n",
      "1000\n",
      "10\n",
      "2\n",
      "9536743164062500000000000000000000\n"
     ]
    }
   ],
   "source": [
    "#operators\n",
    "#arithmetic op\n",
    "a=50\n",
    "b=20\n",
    "print(a+b)\n",
    "print(a-b)\n",
    "print(a/b)\n",
    "print(a*b)\n",
    "print(a%b)\n",
    "print(a//b)\n",
    "print(a**b)"
   ]
  },
  {
   "cell_type": "code",
   "execution_count": 9,
   "id": "ae42b9f6-33bf-4ec8-9154-fcb298cdb38c",
   "metadata": {},
   "outputs": [
    {
     "name": "stdout",
     "output_type": "stream",
     "text": [
      "50\n",
      "60\n",
      "40\n",
      "5.0\n",
      "500\n"
     ]
    }
   ],
   "source": [
    "#assignment op\n",
    "a=50\n",
    "b=50\n",
    "b+=10\n",
    "c=50\n",
    "c-=10\n",
    "d=50\n",
    "d/=10\n",
    "e=50\n",
    "e*=10\n",
    "print(a)\n",
    "print(b)\n",
    "print(c)\n",
    "print(d)\n",
    "print(e)"
   ]
  },
  {
   "cell_type": "code",
   "execution_count": 10,
   "id": "bc6bc87f-1ba2-4fab-9917-116c3f5c54de",
   "metadata": {},
   "outputs": [
    {
     "name": "stdout",
     "output_type": "stream",
     "text": [
      "True\n",
      "False\n",
      "True\n",
      "False\n",
      "False\n",
      "True\n"
     ]
    }
   ],
   "source": [
    "#comparison op\n",
    "a=40\n",
    "b=50\n",
    "print(a<b)\n",
    "print(a>b)\n",
    "print(a<=b)\n",
    "print(a>=b)\n",
    "print(a==b)\n",
    "print(a!=b)"
   ]
  },
  {
   "cell_type": "code",
   "execution_count": 11,
   "id": "7bb71ed0-5889-4411-b564-59138f7333af",
   "metadata": {},
   "outputs": [
    {
     "name": "stdout",
     "output_type": "stream",
     "text": [
      "False\n",
      "True\n",
      "False\n"
     ]
    }
   ],
   "source": [
    "#logical op\n",
    "a=50\n",
    "b=40\n",
    "print(a==b and a>=b)\n",
    "print(a>=b or a<=b)\n",
    "print(not a!=b)"
   ]
  },
  {
   "cell_type": "code",
   "execution_count": 12,
   "id": "46aaba2f-0b0d-4fd3-b917-2e3346117eba",
   "metadata": {},
   "outputs": [
    {
     "name": "stdout",
     "output_type": "stream",
     "text": [
      "True\n",
      "False\n"
     ]
    }
   ],
   "source": [
    "#membership op\n",
    "a=(10,20,30,40)\n",
    "print(10 in a)\n",
    "print(20 not in a)"
   ]
  },
  {
   "cell_type": "code",
   "execution_count": 13,
   "id": "9f611dac-51d3-4e02-8c52-d5983dc5127b",
   "metadata": {},
   "outputs": [
    {
     "name": "stdout",
     "output_type": "stream",
     "text": [
      "0\n",
      "15\n",
      "-6\n",
      "15\n"
     ]
    }
   ],
   "source": [
    "#bitwise logical op\n",
    "a=5\n",
    "b=10\n",
    "print(a&b)\n",
    "print(a|b)\n",
    "print(~a)\n",
    "print(a^b)"
   ]
  },
  {
   "cell_type": "code",
   "execution_count": 14,
   "id": "5f49b344-c1a8-47d5-adaf-a786c76afd2a",
   "metadata": {},
   "outputs": [
    {
     "name": "stdout",
     "output_type": "stream",
     "text": [
      "False\n",
      "True\n"
     ]
    }
   ],
   "source": [
    "#identity op\n",
    "a=50\n",
    "b=40\n",
    "c=b\n",
    "print(a is b)\n",
    "print(a is not b)"
   ]
  },
  {
   "cell_type": "code",
   "execution_count": 15,
   "id": "f5b7a32d-83ef-40e2-bcd0-e0856fa3cfb3",
   "metadata": {},
   "outputs": [
    {
     "name": "stdin",
     "output_type": "stream",
     "text": [
      "enter user's name: nancy\n"
     ]
    },
    {
     "name": "stdout",
     "output_type": "stream",
     "text": [
      "lenght of the name is: 5\n"
     ]
    }
   ],
   "source": [
    "# WAP to input user’s first name & print its length\n",
    "name=input(\"enter user's name:\")\n",
    "print(\"lenght of the name is:\",len(name))"
   ]
  },
  {
   "cell_type": "code",
   "execution_count": 16,
   "id": "7408fb60-e231-4375-b50e-5210b6c10bae",
   "metadata": {},
   "outputs": [
    {
     "name": "stdout",
     "output_type": "stream",
     "text": [
      "60.0\n"
     ]
    }
   ],
   "source": [
    "#mixed arithmetic\n",
    "#(15 + 5) * (20 - 8) / 4\n",
    "a=15\n",
    "b=5\n",
    "c=a+b\n",
    "d=20\n",
    "e=8\n",
    "f=20-8\n",
    "g=c*f\n",
    "h=g/4\n",
    "print(h)"
   ]
  },
  {
   "cell_type": "code",
   "execution_count": 17,
   "id": "2c58252a-830b-498b-87df-7feea1a2fc5f",
   "metadata": {},
   "outputs": [
    {
     "name": "stdout",
     "output_type": "stream",
     "text": [
      "100.0\n"
     ]
    }
   ],
   "source": [
    "#Simple Interest Calculation\n",
    "#Principal (P) = 1000\n",
    "#Rate (R) = 5\n",
    "#Time (T) = 2\n",
    "#SI = (P * R * T) / 100 (formula)\n",
    "p=1000\n",
    "r=5\n",
    "t=2\n",
    "n=100\n",
    "si=(p*r*t)/100\n",
    "print(si)"
   ]
  },
  {
   "cell_type": "code",
   "execution_count": 18,
   "id": "5ac11205-46c5-4647-a8dc-ea637af8ddf9",
   "metadata": {},
   "outputs": [
    {
     "name": "stdout",
     "output_type": "stream",
     "text": [
      "37.0\n"
     ]
    }
   ],
   "source": [
    "#Write a Python program to convert 98.6 (Fahrenheit) to Celsius using the formula:\n",
    "#Celsius = (Fahrenheit - 32) * (5/9)\n",
    "temp=98.6\n",
    "a=32\n",
    "b=5\n",
    "c=9\n",
    "d=(temp-a)*(b/c)\n",
    "print(d)"
   ]
  },
  {
   "cell_type": "code",
   "execution_count": 19,
   "id": "ec99a0e1-5e4a-42cc-8480-f1ff6da3e151",
   "metadata": {},
   "outputs": [
    {
     "name": "stdout",
     "output_type": "stream",
     "text": [
      "125\n"
     ]
    }
   ],
   "source": [
    "#Write a Python program to compute 5 raised to the power of 3 (use the ** operator). Print the result\n",
    "a=5\n",
    "b=3\n",
    "print(a**b)"
   ]
  },
  {
   "cell_type": "code",
   "execution_count": 20,
   "id": "14bd7ee4-8239-4e98-8328-e4b1b0de1929",
   "metadata": {},
   "outputs": [
    {
     "name": "stdout",
     "output_type": "stream",
     "text": [
      "average 30.3\n"
     ]
    }
   ],
   "source": [
    "#Write a Python program that takes three numbers (a = 10, b = 20, c = 30) and computes their average. Print the result.\n",
    "a=10\n",
    "b=20\n",
    "c=30\n",
    "print(\"average\",a+b+c/100)"
   ]
  },
  {
   "cell_type": "code",
   "execution_count": 21,
   "id": "e6604520-963d-4430-be6b-f27c3edc3893",
   "metadata": {},
   "outputs": [
    {
     "name": "stdout",
     "output_type": "stream",
     "text": [
      "45\n",
      "33.0\n"
     ]
    }
   ],
   "source": [
    "#Convert 45.8 (float) to an integer\n",
    "#Convert 33 (integer) to a float.\n",
    "a=int(45.8)\n",
    "b=float(33)\n",
    "print(a)\n",
    "print(b)"
   ]
  },
  {
   "cell_type": "code",
   "execution_count": 22,
   "id": "4deb321e-1f4f-4c5d-b56c-a92af47b9525",
   "metadata": {},
   "outputs": [
    {
     "name": "stdout",
     "output_type": "stream",
     "text": [
      "True\n",
      "True\n",
      "True\n"
     ]
    }
   ],
   "source": [
    "#Boolean Expressions\n",
    "#(5 + 3) > (10 - 4)\n",
    "#(20 / 2) == 10\n",
    "#(7 < 5) or (9 != 8)\n",
    "a=5\n",
    "b=3\n",
    "c=(a+b)\n",
    "d=10\n",
    "e=4\n",
    "f=(d-e)\n",
    "print(c>f)\n",
    "g=20\n",
    "h=2\n",
    "i=(g/h)\n",
    "print(i==10)\n",
    "j=7\n",
    "k=5\n",
    "l=(j<k)\n",
    "m=9\n",
    "n=8\n",
    "o=(m!=n)\n",
    "print(l or o)"
   ]
  },
  {
   "cell_type": "code",
   "execution_count": 23,
   "id": "ea7d6a8b-83bb-4caa-b184-3c1cecafdcee",
   "metadata": {},
   "outputs": [
    {
     "name": "stdin",
     "output_type": "stream",
     "text": [
      "enter a number 56\n"
     ]
    },
    {
     "name": "stdout",
     "output_type": "stream",
     "text": [
      "even\n"
     ]
    }
   ],
   "source": [
    "#conditional statements\n",
    "# WAP to check if a number entered by the user is odd or even\n",
    "a=int(input(\"enter a number\"))\n",
    "if (a%2==0):\n",
    "  print(\"even\")\n",
    "else:\n",
    "  print(\"odd\")"
   ]
  },
  {
   "cell_type": "code",
   "execution_count": 24,
   "id": "b0c09067-fc94-447c-8c4c-2f5a69dcbde3",
   "metadata": {},
   "outputs": [
    {
     "name": "stdin",
     "output_type": "stream",
     "text": [
      "enter a number 89\n",
      "enter a number 46\n",
      "enter a number 422\n"
     ]
    },
    {
     "name": "stdout",
     "output_type": "stream",
     "text": [
      "a is greatest\n"
     ]
    }
   ],
   "source": [
    "# WAP to find the greatest of 3 numbers entered by the user\n",
    "a=int(input(\"enter a number\"))\n",
    "b=int(input(\"enter a number\"))\n",
    "c=int(input(\"enter a number\"))\n",
    "if a>b:\n",
    "    print(\"a is greatest\")\n",
    "elif b>c:\n",
    "    print(\"b is greatest\")\n",
    "else:\n",
    "    print(\"c is greatest\")"
   ]
  },
  {
   "cell_type": "code",
   "execution_count": 25,
   "id": "33f9ea30-607b-42e5-b0a3-0736fa4f61f0",
   "metadata": {},
   "outputs": [
    {
     "name": "stdin",
     "output_type": "stream",
     "text": [
      "enter a number 56\n"
     ]
    },
    {
     "name": "stdout",
     "output_type": "stream",
     "text": [
      "multiple of 7\n"
     ]
    }
   ],
   "source": [
    "#WAP to check if a number is a multiple of 7 or not\n",
    "a=int(input(\"enter a number\"))\n",
    "if(a%7==0):\n",
    "    print(\"multiple of 7\")\n",
    "else:\n",
    "    print(\"not a multiple\")"
   ]
  },
  {
   "cell_type": "code",
   "execution_count": 26,
   "id": "6b472f36-8a42-46aa-95f7-e71ec87cc0c6",
   "metadata": {},
   "outputs": [
    {
     "name": "stdin",
     "output_type": "stream",
     "text": [
      "enter marks 89\n"
     ]
    },
    {
     "name": "stdout",
     "output_type": "stream",
     "text": [
      "b\n"
     ]
    }
   ],
   "source": [
    "#marks >= 90, grade = “A”\n",
    "#90 > marks >= 80, grade = “B”\n",
    "#80 > marks >= 70, grade = “C”\n",
    "#70 > marks, grade = “D”\n",
    "a=int(input(\"enter marks\"))\n",
    "if(a>=90):\n",
    "    print(\"a\")\n",
    "elif(a>=80 <90):\n",
    "    print(\"b\")\n",
    "elif(a>=70 <80):\n",
    "    print(\"c\")\n",
    "else:\n",
    "    print(\"d\")"
   ]
  },
  {
   "cell_type": "code",
   "execution_count": 27,
   "id": "9c415b2f-f3dd-47ab-ba3e-3c9ad5dfd1db",
   "metadata": {},
   "outputs": [
    {
     "name": "stdin",
     "output_type": "stream",
     "text": [
      "enter a number -5\n"
     ]
    },
    {
     "name": "stdout",
     "output_type": "stream",
     "text": [
      "negative\n"
     ]
    }
   ],
   "source": [
    "#program to check whether a number is positive or negative\n",
    "a=float(input(\"enter a number\"))\n",
    "if a%2==0:\n",
    "    print(\"positive\")\n",
    "else:\n",
    "    print(\"negative\")"
   ]
  },
  {
   "cell_type": "code",
   "execution_count": 28,
   "id": "47c756ee-506d-4150-9a5b-04a2ad44e336",
   "metadata": {},
   "outputs": [
    {
     "name": "stdin",
     "output_type": "stream",
     "text": [
      "enter a number 56\n"
     ]
    },
    {
     "name": "stdout",
     "output_type": "stream",
     "text": [
      "eligible to vote\n"
     ]
    }
   ],
   "source": [
    "#age >=18 print,'eligible to vote' else print 'not eligible'\n",
    "age=int(input(\"enter a number\"))\n",
    "if age >=18:\n",
    "    print(\"eligible to vote\")\n",
    "else:\n",
    "    print(\"not eligible\")"
   ]
  },
  {
   "cell_type": "code",
   "execution_count": 29,
   "id": "f7f0cc61-16c3-4865-9811-bc9744a90907",
   "metadata": {},
   "outputs": [
    {
     "name": "stdin",
     "output_type": "stream",
     "text": [
      "enter a number 89\n"
     ]
    },
    {
     "name": "stdout",
     "output_type": "stream",
     "text": [
      "odd\n"
     ]
    }
   ],
   "source": [
    "#odd even\n",
    "num=int(input(\"enter a number\"))\n",
    "if (num%2==0):\n",
    "    print(\"even\")\n",
    "else:\n",
    "    print(\"odd\")"
   ]
  },
  {
   "cell_type": "code",
   "execution_count": 30,
   "id": "83bc768b-7b41-4594-959a-871cddf7953d",
   "metadata": {},
   "outputs": [
    {
     "name": "stdin",
     "output_type": "stream",
     "text": [
      "enter a name 23\n"
     ]
    },
    {
     "name": "stdout",
     "output_type": "stream",
     "text": [
      "the length is<5\n"
     ]
    }
   ],
   "source": [
    "#check the lenght of a string is greater then 5 \n",
    "a=str(input(\"enter a name\")) \n",
    "if len(a)>5: \n",
    "    print(\"the length is>5\") \n",
    "else: \n",
    "    print(\"the length is<5\")"
   ]
  },
  {
   "cell_type": "code",
   "execution_count": 31,
   "id": "acc283eb-078f-41e6-bfcf-085872406b3a",
   "metadata": {},
   "outputs": [
    {
     "name": "stdin",
     "output_type": "stream",
     "text": [
      "enter a number 56\n"
     ]
    },
    {
     "name": "stdout",
     "output_type": "stream",
     "text": [
      "pass\n"
     ]
    }
   ],
   "source": [
    "#if marks >=40, pass else fail\n",
    "a=int(input(\"enter a number\"))\n",
    "if a>=40:\n",
    "    print(\"pass\")\n",
    "else:\n",
    "    print(\"fail\")"
   ]
  },
  {
   "cell_type": "code",
   "execution_count": 32,
   "id": "308d768c-69e8-4952-978e-f1c8b1c8aff7",
   "metadata": {},
   "outputs": [
    {
     "name": "stdin",
     "output_type": "stream",
     "text": [
      "enter a number 89\n"
     ]
    },
    {
     "name": "stdout",
     "output_type": "stream",
     "text": [
      "positive\n"
     ]
    }
   ],
   "source": [
    "#program to check whether a num is positive or negative or zero using if elif else\n",
    "num=float(input(\"enter a number\"))\n",
    "if num>0:\n",
    "    print(\"positive\")\n",
    "elif num<0:\n",
    "    print(\"negative\")\n",
    "else:\n",
    "    print(\"zero\")"
   ]
  },
  {
   "cell_type": "code",
   "execution_count": 33,
   "id": "abc23e3b-a5a2-4732-bd6d-7f9505361339",
   "metadata": {},
   "outputs": [
    {
     "name": "stdin",
     "output_type": "stream",
     "text": [
      "enter a number 13\n"
     ]
    },
    {
     "name": "stdout",
     "output_type": "stream",
     "text": [
      "teen\n"
     ]
    }
   ],
   "source": [
    "#print child if age<13 , teen if age <18 , adult otherwise\n",
    "age=int(input(\"enter a number\"))\n",
    "if age<13:\n",
    "        print(\"child\")\n",
    "elif age<18:\n",
    "        print(\"teen\")\n",
    "else:\n",
    "        print(\"adult\")"
   ]
  },
  {
   "cell_type": "code",
   "execution_count": 34,
   "id": "770b27ee-681e-4250-81a3-d9bfd5289a09",
   "metadata": {},
   "outputs": [
    {
     "name": "stdin",
     "output_type": "stream",
     "text": [
      "enter a number 46\n"
     ]
    },
    {
     "name": "stdout",
     "output_type": "stream",
     "text": [
      "even\n",
      "greater than 10\n"
     ]
    }
   ],
   "source": [
    "#create a nested if program to check if a number is even and if yes also check if its greater than 10\n",
    "num=int(input(\"enter a number\"))\n",
    "if num%2==0:\n",
    "    print(\"even\")\n",
    "    if num>10:\n",
    "       print(\"greater than 10\")\n",
    "    else:\n",
    "       print(\"not greater than 10\")\n",
    "else:\n",
    "    print(\"odd\")"
   ]
  },
  {
   "cell_type": "code",
   "execution_count": 35,
   "id": "417f3783-c9da-478d-af2d-a99b4851847b",
   "metadata": {},
   "outputs": [
    {
     "name": "stdin",
     "output_type": "stream",
     "text": [
      "enter a number 54\n"
     ]
    },
    {
     "name": "stdout",
     "output_type": "stream",
     "text": [
      "fail\n"
     ]
    }
   ],
   "source": [
    "#check grades >90:a , >75:b , >60: c, else: fail\n",
    "marks=int(input(\"enter a number\"))\n",
    "if marks>90:\n",
    "    print(\"A\")\n",
    "elif marks>75:\n",
    "    print(\"B\")\n",
    "elif marks>60:\n",
    "    print(\"c\")\n",
    "else:\n",
    "    print(\"fail\")"
   ]
  },
  {
   "cell_type": "code",
   "execution_count": 36,
   "id": "6e733247-a50f-4954-a4bc-90e9d40a7306",
   "metadata": {},
   "outputs": [
    {
     "name": "stdin",
     "output_type": "stream",
     "text": [
      "enter a number 56\n",
      "enter a number 43\n",
      "enter a number 34\n"
     ]
    },
    {
     "name": "stdout",
     "output_type": "stream",
     "text": [
      "a is greatest\n"
     ]
    }
   ],
   "source": [
    "#ask user to input 3 num and print greatest using nested if\n",
    "a=int(input(\"enter a number\"))\n",
    "b=int(input(\"enter a number\"))\n",
    "c=int(input(\"enter a number\"))\n",
    "if a>b:\n",
    "  if a>c:\n",
    "      print(\"a is greatest\")\n",
    "  else:\n",
    "      print(\"c is greatest\")\n",
    "else:\n",
    "   if b>c:\n",
    "       print(\"b is greatest\")\n",
    "   else:\n",
    "       print(\"c is greatest\")"
   ]
  },
  {
   "cell_type": "code",
   "execution_count": 37,
   "id": "e6e72a13-5dfa-4c46-acdd-d6a4c2474627",
   "metadata": {},
   "outputs": [
    {
     "name": "stdout",
     "output_type": "stream",
     "text": [
      "'HELLO, WORLD!'\n"
     ]
    }
   ],
   "source": [
    "a=\"'HELLO, WORLD!'\"\n",
    "print(a)"
   ]
  },
  {
   "cell_type": "code",
   "execution_count": 38,
   "id": "0596b79a-90c9-4392-9c69-4efecb318c01",
   "metadata": {},
   "outputs": [
    {
     "name": "stdout",
     "output_type": "stream",
     "text": [
      "odd\n"
     ]
    }
   ],
   "source": [
    "a=9\n",
    "if a%2==0:\n",
    "    print(\"even\")\n",
    "else:\n",
    "    print(\"odd\")"
   ]
  },
  {
   "cell_type": "code",
   "execution_count": 39,
   "id": "82e38f94-18e9-41f4-94c8-da8ce7cfc0b3",
   "metadata": {},
   "outputs": [
    {
     "name": "stdout",
     "output_type": "stream",
     "text": [
      "positive\n"
     ]
    }
   ],
   "source": [
    "a=10\n",
    "if a>0:\n",
    "    print(\"positive\")\n",
    "else:\n",
    "    print(\"negative\")"
   ]
  },
  {
   "cell_type": "code",
   "execution_count": 40,
   "id": "2e0c0f8d-cd16-433e-924d-53a6f8a2ece7",
   "metadata": {},
   "outputs": [
    {
     "name": "stdin",
     "output_type": "stream",
     "text": [
      "enter month : may\n"
     ]
    },
    {
     "name": "stdout",
     "output_type": "stream",
     "text": [
      "its summer season\n"
     ]
    }
   ],
   "source": [
    "month = input(\"enter month :\")\n",
    "if month in ['december','january','february']:\n",
    "   print(\"its winter season\")\n",
    "elif month in ['march','april','may']:\n",
    "   print(\"its summer season\")\n",
    "else:\n",
    "   print(\"invalid\")"
   ]
  },
  {
   "cell_type": "code",
   "execution_count": 41,
   "id": "01967551-730c-44db-820c-491950f51b36",
   "metadata": {},
   "outputs": [
    {
     "name": "stdin",
     "output_type": "stream",
     "text": [
      "enter a vehical : car\n"
     ]
    },
    {
     "name": "stdout",
     "output_type": "stream",
     "text": [
      "it will expire in 10 years\n"
     ]
    }
   ],
   "source": [
    "vehicle=input(\"enter a vehical :\")\n",
    "if vehicle in['car','truck','bus']:\n",
    "       print(\"it will expire in 10 years\")\n",
    "elif vehicle in['bike','ebike']:\n",
    "       print(\"it will not expire\")\n",
    "else:\n",
    "       print(\"invalid\")"
   ]
  },
  {
   "cell_type": "code",
   "execution_count": 42,
   "id": "ff14c8f2-3d78-42ce-b900-0bac314fc857",
   "metadata": {},
   "outputs": [
    {
     "name": "stdin",
     "output_type": "stream",
     "text": [
      "enter a number 68\n"
     ]
    },
    {
     "name": "stdout",
     "output_type": "stream",
     "text": [
      "even\n"
     ]
    }
   ],
   "source": [
    "a=int(input(\"enter a number\"))\n",
    "if a%2==0:\n",
    "  print(\"even\")\n",
    "else:\n",
    "  print(\"odd\")"
   ]
  },
  {
   "cell_type": "code",
   "execution_count": 43,
   "id": "aa4c7180-3617-4a00-b076-0fbe2beaf2ac",
   "metadata": {},
   "outputs": [
    {
     "name": "stdout",
     "output_type": "stream",
     "text": [
      "hello\n",
      "hello\n",
      "hello\n",
      "hello\n",
      "hello\n",
      "6\n"
     ]
    }
   ],
   "source": [
    "#loops\n",
    "count=1\n",
    "while count<=5:\n",
    "    print(\"hello\")\n",
    "    count+=1\n",
    "print(count)"
   ]
  },
  {
   "cell_type": "code",
   "execution_count": 44,
   "id": "e1a3dd05-2f9f-4166-8f24-810f2bf4f03a",
   "metadata": {},
   "outputs": [
    {
     "name": "stdout",
     "output_type": "stream",
     "text": [
      "1\n",
      "2\n",
      "3\n",
      "4\n",
      "5\n",
      "6\n",
      "7\n",
      "8\n",
      "9\n",
      "10\n"
     ]
    }
   ],
   "source": [
    "i=1\n",
    "while i<=10:\n",
    "    print(i)\n",
    "    i+=1"
   ]
  },
  {
   "cell_type": "code",
   "execution_count": null,
   "id": "1f7d4648-a11b-4486-865c-93c8c8b089f1",
   "metadata": {},
   "outputs": [],
   "source": []
  },
  {
   "cell_type": "code",
   "execution_count": null,
   "id": "11639d5a-f94e-4803-9f31-6c4aaa3777fa",
   "metadata": {},
   "outputs": [],
   "source": []
  },
  {
   "cell_type": "code",
   "execution_count": null,
   "id": "71853232-d6ca-4c0d-aa36-c47017a74ecc",
   "metadata": {},
   "outputs": [],
   "source": []
  },
  {
   "cell_type": "code",
   "execution_count": null,
   "id": "eaf3ed38-2a81-45c8-8925-166641cd0297",
   "metadata": {},
   "outputs": [],
   "source": []
  }
 ],
 "metadata": {
  "kernelspec": {
   "display_name": "Python [conda env:base] *",
   "language": "python",
   "name": "conda-base-py"
  },
  "language_info": {
   "codemirror_mode": {
    "name": "ipython",
    "version": 3
   },
   "file_extension": ".py",
   "mimetype": "text/x-python",
   "name": "python",
   "nbconvert_exporter": "python",
   "pygments_lexer": "ipython3",
   "version": "3.13.5"
  }
 },
 "nbformat": 4,
 "nbformat_minor": 5
}
